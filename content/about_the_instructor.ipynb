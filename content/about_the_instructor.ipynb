{
 "cells": [
  {
   "cell_type": "markdown",
   "metadata": {},
   "source": [
    "## About the instructor"
   ]
  },
  {
   "cell_type": "markdown",
   "metadata": {},
   "source": [
    "## Hi 👋, I'm Pavan Shanbhag\n",
    "\n",
    "- Cloud Software Development Engineer with a Passion for DevOps, Data Engineering, and Building Reliable Applications.\n",
    "\n",
    "- 🏢 8+ years at Intel\n",
    "\n",
    "- 🌍 Located in **Bangalore, India**\n",
    "\n",
    "- 💬 Ask me about **Python, Docker, Kubernetes, Data Ingestion Pipelines, Azure, RDBMS, ETLs...**\n",
    "\n",
    "- 📫 How to reach me **pavanshanbhag12@gmail.com**\n",
    "\n",
    "- ⚡ Fun fact **I love Travelling, Gardening and Watching Sci-Fi/Action Movies**\n",
    "\n",
    "\n",
    "## Connect with me: <a href=\"https://linkedin.com/in/pavan-shanbhag\" target=\"blank\"><img align=\"center\" src=\"https://raw.githubusercontent.com/rahuldkjain/github-profile-readme-generator/master/src/images/icons/Social/linked-in-alt.svg\" alt=\"pavan-shanbhag\" height=\"30\" width=\"40\" /></a>"
   ]
  },
  {
   "cell_type": "code",
   "execution_count": null,
   "metadata": {},
   "outputs": [],
   "source": []
  }
 ],
 "metadata": {
  "kernelspec": {
   "display_name": "Python 3 (ipykernel)",
   "language": "python",
   "name": "python3"
  },
  "language_info": {
   "codemirror_mode": {
    "name": "ipython",
    "version": 3
   },
   "file_extension": ".py",
   "mimetype": "text/x-python",
   "name": "python",
   "nbconvert_exporter": "python",
   "pygments_lexer": "ipython3",
   "version": "3.12.2"
  }
 },
 "nbformat": 4,
 "nbformat_minor": 4
}

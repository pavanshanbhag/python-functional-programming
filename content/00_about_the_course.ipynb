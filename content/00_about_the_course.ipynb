{
 "cells": [
  {
   "cell_type": "markdown",
   "id": "2950d71d-480d-4a54-a59d-8ec85372505f",
   "metadata": {
    "editable": true,
    "slideshow": {
     "slide_type": "slide"
    },
    "tags": []
   },
   "source": [
    "# Advance Python - Functional Programming"
   ]
  },
  {
   "cell_type": "markdown",
   "id": "2aafd5f3-6a4b-44e3-808f-738d3d86ea74",
   "metadata": {
    "editable": true,
    "jp-MarkdownHeadingCollapsed": true,
    "slideshow": {
     "slide_type": "subslide"
    },
    "tags": []
   },
   "source": [
    "---\n",
    "This course is targeted for developers who have already intermediate experience with Python and want to level up to advance level.\n",
    "\n",
    "Course is delivered by **Shanbhag, Pavan**."
   ]
  },
  {
   "cell_type": "markdown",
   "id": "0f1f05e3-83fe-41c8-86e6-b1e2e66dd4fe",
   "metadata": {
    "editable": true,
    "slideshow": {
     "slide_type": "subslide"
    },
    "tags": []
   },
   "source": [
    "## Expectation/Pre-requisite\n",
    "\n",
    "You should already have knowledge of:\n",
    "*   Python fundamentals (identifier, data types, loops, functions, OOP).\n",
    "*   Python intermediate (decorator, lambda, typing, generator, iterator).\n",
    "*   If you are new to Python, consider completing a beginner and intermediate Python course first.\n",
    "*   We assume that we are on Python 3.8+\n",
    "*   Git (In case you want to clone this repo and run it locally)."
   ]
  },
  {
   "cell_type": "markdown",
   "id": "d778223d-7162-4c44-a294-a0093e83104e",
   "metadata": {
    "editable": true,
    "slideshow": {
     "slide_type": "subslide"
    },
    "tags": []
   },
   "source": [
    "## What can you expect?\n",
    "\n",
    "1. Gain in-depth understanding of Functional Programming principles, including first-class and high-order functions, pure functions, and immutability.\n",
    "2. Learn intermediate and advanced concepts such as closures, currying, monads, functors, and the intersection of Functional Programming and OOP.\n",
    "3. Apply theoretical knowledge in practical exercises, translating complex concepts into applicable skills for real-world projects.\n",
    "4. Empower yourself to write clean, efficient, and easily testable code, ultimately enhancing your ability to handle complex software projects with confidence."
   ]
  },
  {
   "cell_type": "markdown",
   "id": "951a82d4-31a6-47b6-a134-f64c0a2d7e76",
   "metadata": {
    "editable": true,
    "slideshow": {
     "slide_type": "subslide"
    },
    "tags": []
   },
   "source": [
    "## Which Python version are we using?\n",
    "\n",
    "<div style=\"text-align: center\"><strong>Python3.8+</strong></div>\n",
    "\n",
    "| Branch | Schedule                                       | Status        | First release | End of life  | Release manager       |\n",
    "| ------ | ---------------------------------------------- | ------------- | ------------- | ------------ | --------------------- |\n",
    "| main   | [PEP 745](https://peps.python.org/pep-0745/)   | feature       | _2025-10-01_  | _2029-10_    | Hugo van Kemenade     |\n",
    "| 3.13   | [PEP 719](https://peps.python.org/pep-0719/)   | prerelease    | _2024-10-01_  | _2028-10_    | Thomas Wouters        |\n",
    "| 3.12   | [PEP 693](https://peps.python.org/pep-0693/)   | bugfix        | _2023-10-02_  | _2028-10_    | Thomas Wouters        |\n",
    "| 3.11   | [PEP 664](https://peps.python.org/pep-0664/)   | security      | 2022-10-24    | _2027-10_    | Pablo Galindo Salgado |\n",
    "| 3.10   | [PEP 619](https://peps.python.org/pep-0619/)   | security      | 2021-10-04    | _2026-10_    | Pablo Galindo Salgado |\n",
    "| 3.9    | [PEP 596](https://peps.python.org/pep-0596/)   | security      | 2020-10-05    | _2025-10_    | Łukasz Langa          |\n",
    "| 3.8    | [PEP 569](https://peps.python.org/pep-0569/)   | security      | 2019-10-14    | _2024-10_    | Łukasz Langa          |\n",
    "| ~3.7~  | ~[PEP 537](https://peps.python.org/pep-0537/)~ | ~end-of-life~ | ~2018-06-27~  | ~2023-06-27~ | ~Ned Deily~           |\n",
    "\n",
    "<div style=\"text-align: center\"><a href=\"https://devguide.python.org/versions/\">Source for the above table</a></div>"
   ]
  },
  {
   "cell_type": "markdown",
   "id": "90ed5e18-54ce-40ff-906f-6fe2b656a44b",
   "metadata": {
    "editable": true,
    "slideshow": {
     "slide_type": ""
    },
    "tags": []
   },
   "source": [
    "## Try from local environment\n",
    "\n",
    "1. Make sure you have Python installed. Follow the guide in the official Python documentation on how to do it for different operating systems: [Windows](https://docs.python.org/3/using/windows.html#installation-steps), [Mac](https://docs.python.org/3/using/mac.html#getting-and-installing-macpython), or [Unix](https://docs.python.org/3/using/unix.html#getting-and-installing-the-latest-version-of-python) systems. \n",
    "2. Considering you have Git installed. Try cloning this repository: `git clone https://github.com/pavanshanbhag/python-functional-programming.git`\n",
    "   Otherwise, download the zip from [python-functional-programming](https://github.com/pavanshanbhag/python-functional-programming/archive/refs/heads/main.zip) and extract the content\n",
    "4. I would recommend creating a `virtual environment` to install the dependencies: `python -m venv .venv`\n",
    "5. Activate virtual environment: On Windows `.venv\\Scripts\\activate` and on Linux `source .venv/bin/activate`\n",
    "7. Install all the dependencies in the virtual environment: `pip install -r requirements.txt`\n",
    "8. Run Jupyter Lab: `jupyter lab`"
   ]
  },
  {
   "cell_type": "markdown",
   "id": "b154d3b7-6c60-49d7-9edc-37a9b1af0b0f",
   "metadata": {
    "editable": true,
    "slideshow": {
     "slide_type": "subslide"
    },
    "tags": []
   },
   "source": [
    "## Running different Python version in Windows\n",
    "\n",
    "![](./static/py_launcher.png)"
   ]
  },
  {
   "cell_type": "markdown",
   "id": "721ac315-436d-4cad-8051-4f3b9e703fc6",
   "metadata": {
    "editable": true,
    "slideshow": {
     "slide_type": "subslide"
    },
    "tags": []
   },
   "source": [
    "## Running different Python version in Linux\n",
    "\n",
    "![](./static/python_launcher_linux.png)"
   ]
  },
  {
   "cell_type": "markdown",
   "id": "bd73e5e0-6c6b-4164-87c7-cf28b65b5378",
   "metadata": {
    "editable": true,
    "slideshow": {
     "slide_type": "subslide"
    },
    "tags": []
   },
   "source": [
    "## Keyboard Shortcuts\n",
    "\n",
    "- Execute a cell: Shift+Enter\n",
    "- Select current cell: Esc (or click on cell margin)\n",
    "- Delete selected cell: DD (type D twice in succession)\n",
    "- Change selected cell to Markup: M\n",
    "- Change selected cell to Code: Y\n",
    "- Save: S\n",
    "- Insert cell above currently selected cell: B\n",
    "- Insert cell after currently selected cell: A\n",
    "\n",
    "Don't forget to re-run your Jupyter notebook when you re-load it later - this will re-execute all the cells (but it will stop processing the cells if it encounters an error).\n",
    "\n",
    "**Project Jupyter documentation:** [https://docs.jupyter.org/en/latest/](https://docs.jupyter.org/en/latest/)"
   ]
  }
 ],
 "metadata": {
  "kernelspec": {
   "display_name": "Python 3 (ipykernel)",
   "language": "python",
   "name": "python3"
  },
  "language_info": {
   "codemirror_mode": {
    "name": "ipython",
    "version": 3
   },
   "file_extension": ".py",
   "mimetype": "text/x-python",
   "name": "python",
   "nbconvert_exporter": "python",
   "pygments_lexer": "ipython3",
   "version": "3.12.2"
  }
 },
 "nbformat": 4,
 "nbformat_minor": 5
}

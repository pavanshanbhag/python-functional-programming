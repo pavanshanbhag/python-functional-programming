{
 "cells": [
  {
   "cell_type": "markdown",
   "id": "e5cf5a2e-5e50-4500-9ae0-9642eb5c67c4",
   "metadata": {
    "editable": true,
    "slideshow": {
     "slide_type": ""
    },
    "tags": []
   },
   "source": [
    "[<< [Programming Paradigm](./01_programming_paradigm.ipynb) | [Index](./00_index.ipynb) | [First-Class and High Order Functions](./03_first_class_and_higher_order_functions.ipynb) >>]"
   ]
  },
  {
   "cell_type": "markdown",
   "id": "ee84bd17-23f3-45c4-8ee2-1f72c8fff733",
   "metadata": {
    "editable": true,
    "slideshow": {
     "slide_type": "slide"
    },
    "tags": []
   },
   "source": [
    "# Functional Programming"
   ]
  },
  {
   "cell_type": "markdown",
   "id": "8841e7e9-7f47-41a6-ba04-6ef4bf1c8bfe",
   "metadata": {
    "editable": true,
    "slideshow": {
     "slide_type": "subslide"
    },
    "tags": []
   },
   "source": [
    "Functional programming (FP) is a programming paradigm that treats computation as the evaluation of mathematical functions and avoids changing-state and mutable data.\n",
    "\n",
    "It is a practical implementation of `Alonzo Church's lambda calculus`. However, not all lambda calculus ideas are applicable in practice due to physical limitations. It was created in the 1950s and developed significantly in the 1960s with the introduction of the `Lisp programming language`."
   ]
  },
  {
   "cell_type": "markdown",
   "id": "eb1e1ca3-7203-4801-a265-39ea07467d2a",
   "metadata": {
    "editable": true,
    "slideshow": {
     "slide_type": "subslide"
    },
    "tags": []
   },
   "source": [
    "[![Lambda Calculus](https://img.youtube.com/vi/eis11j_iGMs/0.jpg)](https://www.youtube.com/watch?v=eis11j_iGMs)"
   ]
  },
  {
   "cell_type": "markdown",
   "id": "e3d08d68-f984-4263-a677-bbb699462cac",
   "metadata": {
    "editable": true,
    "slideshow": {
     "slide_type": "subslide"
    },
    "tags": []
   },
   "source": [
    "## Characteristics \n",
    "1. prefers pure functions\n",
    "2. avoids side effects\n",
    "3. functions are first-class objects\n",
    "4. prefers immutable objects\n",
    "5. prefers iterators over lists\n",
    "6. favors lazy evaluation\n",
    "7. avoids loops and if statements\n",
    "8. often uses recursion to avoid loops\n",
    "9. uses higher-order functions to define new functions"
   ]
  },
  {
   "cell_type": "markdown",
   "id": "c60e2fd7-ea0d-4e0a-9757-9337fb23fbc3",
   "metadata": {
    "editable": true,
    "slideshow": {
     "slide_type": "subslide"
    },
    "tags": []
   },
   "source": [
    "## Advantages - Simplified\n",
    "\n",
    "1. often creates less code\n",
    "2. Intent of the code is clearer\n",
    "3. There are often fewer bugs\n",
    "4. Code is potentially mathematically provable\n",
    "5. Multiprocessing can be applied easily\n"
   ]
  },
  {
   "cell_type": "markdown",
   "id": "4345007e-ee9d-441a-bcbe-f5c19cbd7e39",
   "metadata": {
    "editable": true,
    "slideshow": {
     "slide_type": ""
    },
    "tags": []
   },
   "source": [
    "## Disadvantages - Simplified\n",
    "\n",
    "1. **Unpredictable Performance**: Dependency on garbage collection affects responsiveness.\n",
    "2. **Garbage Collection**: Complicates performance prediction.\n",
    "3. **Laziness**: Makes performance analysis harder.\n",
    "4. **Learning Curve**: Departure from conventional programming deters some.\n",
    "5. **Algorithms & Data Structures**: Challenging implementation in FP.\n",
    "6. **New Paradigms**: Requires learning new concepts.\n",
    "7. **Persistent Data Structures**: Enhances efficiency, not common in imperative programming."
   ]
  },
  {
   "cell_type": "markdown",
   "id": "742378b4-d1df-4103-b846-df5eee686fbe",
   "metadata": {
    "editable": true,
    "slideshow": {
     "slide_type": ""
    },
    "tags": []
   },
   "source": [
    "From next section onwards we will be discussing these topics:\n",
    "First-Class and High Order Functions; Pure Functions, Immutability and side effects; Referential transparency; Recursion and Lazy evaluation; Predicate and Idempotent; Closures; Partial function and Partial Application; Currying; Singledispatch; Functors, Applicative functors and Monads\n",
    "\n",
    "[![Functional Programming](https://img.youtube.com/vi/HlgG395PQWw/0.jpg)](https://www.youtube.com/watch?v=HlgG395PQWw)"
   ]
  },
  {
   "cell_type": "markdown",
   "id": "2cbb0134-211f-493c-a3ff-125cb061a151",
   "metadata": {
    "editable": true,
    "slideshow": {
     "slide_type": "skip"
    },
    "tags": []
   },
   "source": [
    "[<< [Programming Paradigm](./01_programming_paradigm.ipynb) | [Index](./00_index.ipynb) | [First-Class and High Order Functions](./03_first_class_and_higher_order_functions.ipynb) >>]"
   ]
  }
 ],
 "metadata": {
  "kernelspec": {
   "display_name": "Python 3 (ipykernel)",
   "language": "python",
   "name": "python3"
  },
  "language_info": {
   "codemirror_mode": {
    "name": "ipython",
    "version": 3
   },
   "file_extension": ".py",
   "mimetype": "text/x-python",
   "name": "python",
   "nbconvert_exporter": "python",
   "pygments_lexer": "ipython3",
   "version": "3.12.2"
  }
 },
 "nbformat": 4,
 "nbformat_minor": 5
}
